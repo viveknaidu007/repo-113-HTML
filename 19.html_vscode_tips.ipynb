{
 "cells": [
  {
   "cell_type": "code",
   "execution_count": null,
   "metadata": {},
   "outputs": [],
   "source": [
    "#vscode html tips"
   ]
  },
  {
   "cell_type": "code",
   "execution_count": null,
   "metadata": {
    "vscode": {
     "languageId": "html"
    }
   },
   "outputs": [],
   "source": [
    "div#first"
   ]
  },
  {
   "cell_type": "code",
   "execution_count": null,
   "metadata": {
    "vscode": {
     "languageId": "html"
    }
   },
   "outputs": [],
   "source": [
    "div#first\n",
    "p.second\n",
    "p.second#first\n",
    "ul>li\n",
    "ul>p\n",
    "ul>p*5\n",
    "tab\n",
    "div.first*4\n",
    "table>tr#row$*5"
   ]
  },
  {
   "cell_type": "code",
   "execution_count": null,
   "metadata": {
    "vscode": {
     "languageId": "html"
    }
   },
   "outputs": [],
   "source": []
  },
  {
   "cell_type": "code",
   "execution_count": null,
   "metadata": {
    "vscode": {
     "languageId": "html"
    }
   },
   "outputs": [],
   "source": [
    "<div id=\"first\"></div>\n",
    "<p class=\"second\"></p>\n",
    "<p class=\"second\" id=\"first\"></p>\n",
    "<ul>\n",
    "    <li></li>\n",
    "</ul>\n",
    "\n",
    "<ul>\n",
    "    <p></p>\n",
    "</ul>\n",
    "\n",
    "<ul>\n",
    "    <p></p>\n",
    "    <p></p>\n",
    "    <p></p>\n",
    "    <p></p>\n",
    "    <p></p>\n",
    "</ul>\n",
    "\n",
    "<table>\n",
    "    <tr id=\"row1\"></tr>\n",
    "</table>\n",
    "\n",
    "<div class=\"first\"></div>\n",
    "<div class=\"first\"></div>\n",
    "<div class=\"first\"></div>\n",
    "<div class=\"first\"></div>\n",
    "\n",
    "<table>\n",
    "    <tr id=\"row1\"></tr>\n",
    "    <tr id=\"row2\"></tr>\n",
    "    <tr id=\"row3\"></tr>\n",
    "    <tr id=\"row4\"></tr>\n",
    "    <tr id=\"row5\"></tr>\n",
    "</table>"
   ]
  },
  {
   "cell_type": "code",
   "execution_count": null,
   "metadata": {
    "vscode": {
     "languageId": "html"
    }
   },
   "outputs": [],
   "source": []
  }
 ],
 "metadata": {
  "language_info": {
   "name": "python"
  }
 },
 "nbformat": 4,
 "nbformat_minor": 2
}
