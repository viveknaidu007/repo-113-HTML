{
 "cells": [
  {
   "cell_type": "code",
   "execution_count": null,
   "metadata": {},
   "outputs": [],
   "source": []
  },
  {
   "cell_type": "code",
   "execution_count": null,
   "metadata": {
    "vscode": {
     "languageId": "html"
    }
   },
   "outputs": [],
   "source": [
    "<!DOCTYPE html>\n",
    "<html lang=\"en\">\n",
    "    <head>\n",
    "        <meta charset=\"UTF-8\">\n",
    "        <meta http-equiv=\"X-UA-Compatible\" content=\"IE=edge\">\n",
    "        <meta name=\"viewport\" content=\"width=device-width, initial-scale=1.0\">\n",
    "        <title> audio and video tags </title>\n",
    "    </head>\n",
    "\n",
    "    <body>\n",
    "        <details>\n",
    "            <summary> paragraph1</summary>\n",
    "            hi this vivkekfndfndnfjsnsj,\n",
    "            fnjksdfksjdnffjksdkv\n",
    "            fdhsbhdsbjknfksfn\n",
    "            lfnkdfjjndfvkjdvbkbvdkdsjvbvbja;kvja\n",
    "            vhkbhkvbvjkbjadj\n",
    "        </details>\n",
    "\n",
    "        <details>\n",
    "            <summary> paragraph2</summary>\n",
    "            hiidlslvnskfnlnasflnflansfnafi.\n",
    "            fdsnfjlkaskfkasfkaf,\n",
    "            ekjnfkdjswkfkbfbkf,\n",
    "            fndwjskbkfbebswbkbkbfkeJ\n",
    "        </details>\n",
    "\n",
    "        <details>\n",
    "            <summary> paragraph 3</summary>\n",
    "            hi , this is vivekejkdsbvfskdbjvbkbav,\n",
    "            sdfjklsajskslf\n",
    "            swdkfjckfkjbdfbkwbfukwhkhuf,\n",
    "            djfljkabfkabesbfakjbaek\n",
    "        </details>\n",
    "\n",
    "\n",
    "        <details>\n",
    "            <summary> image1 </summary>\n",
    "            <img src=\"nature.jpg\" alt=\"\" width=\"200px\" height=\"200\">\n",
    "        </details>\n",
    "    </body>\n",
    "</html>\n"
   ]
  }
 ],
 "metadata": {
  "language_info": {
   "name": "python"
  }
 },
 "nbformat": 4,
 "nbformat_minor": 2
}
