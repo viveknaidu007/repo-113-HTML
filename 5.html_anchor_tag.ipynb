{
 "cells": [
  {
   "cell_type": "code",
   "execution_count": null,
   "metadata": {},
   "outputs": [],
   "source": [
    "# what is anchor tag:\n",
    "# webpage linkning with one page to another page we use this\n",
    "\n",
    "# how to write the anchor tag\n",
    "\n",
    "# attributes of anchor tag"
   ]
  },
  {
   "cell_type": "code",
   "execution_count": null,
   "metadata": {},
   "outputs": [],
   "source": [
    "#anchor tag is used to link one webpage to another webpages:\n",
    "\n",
    "#syntax: <a href = \"path to go\"> link name </a>\n",
    "\n",
    "# EX: <a href = \"www.twitter.com\">Twitter <a/>"
   ]
  },
  {
   "cell_type": "code",
   "execution_count": null,
   "metadata": {},
   "outputs": [],
   "source": [
    "#here the new open wil appear in same page only:"
   ]
  },
  {
   "cell_type": "code",
   "execution_count": null,
   "metadata": {
    "vscode": {
     "languageId": "html"
    }
   },
   "outputs": [],
   "source": [
    "<!DOCTYPE html>\n",
    "<html>\n",
    "    <head>\n",
    "        <table> Anchor tag</table>\n",
    "    </head>\n",
    "\n",
    "    <body>\n",
    "        <a href=\"https://x.com/login\"> twitter </a>\n",
    "    </body>\n",
    "\n",
    "\n",
    "</html>"
   ]
  },
  {
   "cell_type": "code",
   "execution_count": null,
   "metadata": {},
   "outputs": [],
   "source": [
    "#here now when we press the link it will appear in the new page not in sam epage because of target attribute in <a>:"
   ]
  },
  {
   "cell_type": "code",
   "execution_count": null,
   "metadata": {
    "vscode": {
     "languageId": "html"
    }
   },
   "outputs": [],
   "source": [
    "<body>\n",
    "    <a href=\"https://x.com/login\" target=\"blank\"> twitter </a>\n",
    "</body>\n"
   ]
  },
  {
   "cell_type": "code",
   "execution_count": null,
   "metadata": {},
   "outputs": [],
   "source": [
    "# new example : \n",
    "# it will an html file to link to them , if its in same directory"
   ]
  },
  {
   "cell_type": "code",
   "execution_count": null,
   "metadata": {
    "vscode": {
     "languageId": "html"
    }
   },
   "outputs": [],
   "source": [
    "# <!DOCTYPE html>\n",
    "<html>\n",
    "    <head>\n",
    "        <title> anchor tag </title>\n",
    "    </head>\n",
    "\n",
    "    <body>\n",
    "        <h2> this is index page</h2>\n",
    "        <a href = \"about.html\" target=\"_blank\">  about </a>\n",
    "\n",
    "    </body>\n",
    "\n",
    "\n",
    "</html>"
   ]
  }
 ],
 "metadata": {
  "language_info": {
   "name": "python"
  }
 },
 "nbformat": 4,
 "nbformat_minor": 2
}
