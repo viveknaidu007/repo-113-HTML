{
 "cells": [
  {
   "cell_type": "code",
   "execution_count": null,
   "metadata": {},
   "outputs": [],
   "source": []
  },
  {
   "cell_type": "markdown",
   "metadata": {},
   "source": [
    "![p](images\\img8.png)"
   ]
  },
  {
   "cell_type": "code",
   "execution_count": null,
   "metadata": {
    "vscode": {
     "languageId": "html"
    }
   },
   "outputs": [],
   "source": [
    "<!DOCTYPE html>\n",
    "<html>\n",
    "    <head>\n",
    "        <title> forms demo</title>\n",
    "    </head>\n",
    "    \n",
    "    <body>\n",
    "        <form>\n",
    "            place:<input type=\"text\">\n",
    "            \n",
    "        </form>\n",
    "    </body>\n",
    "</html>"
   ]
  },
  {
   "cell_type": "markdown",
   "metadata": {},
   "source": [
    "![p](images\\img9.png)"
   ]
  },
  {
   "cell_type": "code",
   "execution_count": null,
   "metadata": {
    "vscode": {
     "languageId": "html"
    }
   },
   "outputs": [],
   "source": [
    "# we use passowrd for sensitive "
   ]
  },
  {
   "cell_type": "code",
   "execution_count": null,
   "metadata": {},
   "outputs": [],
   "source": [
    "#input tag attributes : <input type=\"\">\n",
    "\n",
    "#1.type= \"text\"\n",
    "#2.type=\"password\"\n",
    "#3.type=\"email\"\n",
    "#4.type=\"tel\"\n",
    "#5.type=\"number\"\n",
    "#6.type=\"submit\"\n",
    "#7.type=\"button\"\n",
    "#8.type=\"reset\"\n",
    "#9.type=\"color\"\n",
    "#10.type=\"radio\"\n",
    "#11.type=\"checkbox\"\n",
    "#12.type=\"range\"\n",
    "#13.type=\"date\"\n",
    "#14.type=\"file\"\n",
    "#15.type=\"search\"\n",
    "#16.type=\"time\"\n",
    "#17.type=\"month\"\n",
    "#18.type=\"datetime-local\"\n",
    "#19.type=\"week\"\n",
    "#20.type=\"url\""
   ]
  },
  {
   "cell_type": "code",
   "execution_count": null,
   "metadata": {},
   "outputs": [],
   "source": [
    "# we have mainly 3 atttributes in form tag\n",
    "\n",
    "#1.action : <form action=\"\">\n",
    "#it will tell that we action we have to take while we press the submit button , we have to backend repsonse , the form data will give go here"
   ]
  },
  {
   "cell_type": "code",
   "execution_count": null,
   "metadata": {},
   "outputs": [],
   "source": [
    "#\n",
    "# selecting one amoung other other w eused radio button"
   ]
  },
  {
   "cell_type": "code",
   "execution_count": null,
   "metadata": {},
   "outputs": [],
   "source": [
    "# we can guve below attributes based on our requiremenr:"
   ]
  },
  {
   "cell_type": "markdown",
   "metadata": {},
   "source": [
    "![p](images\\img10.png)"
   ]
  },
  {
   "cell_type": "code",
   "execution_count": null,
   "metadata": {},
   "outputs": [],
   "source": [
    "#whenever we gave the name attribute then only it will send the data to the server\n",
    "\n",
    "<input type=\"text\" name=\"place\" maxlength=\"10\" minlength=\"3\" \n",
    "\n",
    "#whenever we gave the attribute with "
   ]
  },
  {
   "cell_type": "code",
   "execution_count": null,
   "metadata": {},
   "outputs": [],
   "source": [
    "#now text area tag: <text area/>"
   ]
  },
  {
   "cell_type": "markdown",
   "metadata": {},
   "source": [
    "![p](images\\img11.png)"
   ]
  },
  {
   "cell_type": "code",
   "execution_count": null,
   "metadata": {
    "vscode": {
     "languageId": "html"
    }
   },
   "outputs": [],
   "source": [
    "1.<textarea></textarea>\n",
    "            2.<textarea> vivek </textarea>\n",
    "            3.<textarea cols=\"30\" rows=\"10\"> vivek </textarea>"
   ]
  },
  {
   "cell_type": "code",
   "execution_count": null,
   "metadata": {},
   "outputs": [],
   "source": [
    "# select tag : <select> </select>"
   ]
  },
  {
   "cell_type": "code",
   "execution_count": null,
   "metadata": {
    "vscode": {
     "languageId": "html"
    }
   },
   "outputs": [],
   "source": [
    "<select> \n",
    "    <option> english</option>\n",
    "    <option> telugu</option>\n",
    "    <option> hindi</option>\n",
    "</select>"
   ]
  },
  {
   "cell_type": "markdown",
   "metadata": {
    "vscode": {
     "languageId": "html"
    }
   },
   "source": [
    "![p](images\\img12.png)"
   ]
  },
  {
   "cell_type": "code",
   "execution_count": null,
   "metadata": {},
   "outputs": [],
   "source": [
    "#action: it will tell the data to go to which path . if we didnt gave any path , it will take deafult same page to load \n",
    "#target: when we press submit , then it will decide in which tab it should open , it should open in the sam etab or another tab \n",
    "#method: it will decide the form data to send in the which place , if the data is send through url , then it leaads to data hack , hence we have to use post.\n",
    "#name: , the form and value to be send , in our webpage we can have multiple forms then it will decide which data to send to its particular response by giving : name=\"form1\" "
   ]
  }
 ],
 "metadata": {
  "language_info": {
   "name": "python"
  }
 },
 "nbformat": 4,
 "nbformat_minor": 2
}
