{
 "cells": [
  {
   "cell_type": "code",
   "execution_count": null,
   "metadata": {},
   "outputs": [],
   "source": []
  },
  {
   "cell_type": "markdown",
   "metadata": {},
   "source": [
    "![p](images\\img8.png)"
   ]
  },
  {
   "cell_type": "code",
   "execution_count": null,
   "metadata": {
    "vscode": {
     "languageId": "html"
    }
   },
   "outputs": [],
   "source": [
    "<!DOCTYPE html>\n",
    "<html>\n",
    "    <head>\n",
    "        <title> forms demo</title>\n",
    "    </head>\n",
    "    \n",
    "    <body>\n",
    "        <form>\n",
    "            place:<input type=\"text\">\n",
    "            \n",
    "        </form>\n",
    "    </body>\n",
    "</html>"
   ]
  },
  {
   "cell_type": "markdown",
   "metadata": {},
   "source": [
    "![p](images\\img9.png)"
   ]
  },
  {
   "cell_type": "code",
   "execution_count": null,
   "metadata": {
    "vscode": {
     "languageId": "html"
    }
   },
   "outputs": [],
   "source": [
    "# we use passowrd for sensitive "
   ]
  },
  {
   "cell_type": "code",
   "execution_count": null,
   "metadata": {},
   "outputs": [],
   "source": [
    "#1.type= \"text\"\n",
    "#2.type=\"password\"\n",
    "#3.type=\"email\"\n",
    "#4.type=\"tel\"\n",
    "#5.type=\"number\"\n",
    "#6.type=\"submit\"\n",
    "#7.type=\"button\"\n",
    "#8.type=\"reset\"\n",
    "#9.type=\"color\"\n",
    "#10.type=\"radio\""
   ]
  },
  {
   "cell_type": "code",
   "execution_count": null,
   "metadata": {},
   "outputs": [],
   "source": [
    "# we have mainly 3 atttributes in form tag\n",
    "\n",
    "#1.action : <form action=\"\">\n",
    "#it will tell that we action we have to take while we press the submit button , we have to backend repsonse , the form data will give go here"
   ]
  },
  {
   "cell_type": "code",
   "execution_count": null,
   "metadata": {},
   "outputs": [],
   "source": [
    "#\n",
    "# selecting one amoung other other w eused radio button"
   ]
  }
 ],
 "metadata": {
  "language_info": {
   "name": "python"
  }
 },
 "nbformat": 4,
 "nbformat_minor": 2
}
