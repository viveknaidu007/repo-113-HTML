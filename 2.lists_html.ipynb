{
 "cells": [
  {
   "cell_type": "code",
   "execution_count": null,
   "metadata": {},
   "outputs": [],
   "source": [
    "# we use lists to represent the conetnt in list\n",
    "\n",
    "# we have :\n",
    "'''\n",
    "unorder list : no problem at any posistion\n",
    "ordered list : have to place in specific position\n",
    "description list : we have list of items , and if we want to explain each item then we can use this\n",
    "'''"
   ]
  },
  {
   "cell_type": "markdown",
   "metadata": {},
   "source": [
    "# unordered list"
   ]
  },
  {
   "cell_type": "code",
   "execution_count": null,
   "metadata": {},
   "outputs": [],
   "source": [
    "#unordered list tag : <ul> </ul>\n",
    "#list tag : <li> </li>"
   ]
  },
  {
   "cell_type": "code",
   "execution_count": null,
   "metadata": {
    "vscode": {
     "languageId": "html"
    }
   },
   "outputs": [],
   "source": [
    "<!DOCTYPE html>\n",
    "<html lang=\"en\">\n",
    "    <head>\n",
    "        <meta charset=\"UTF-8\">\n",
    "        <title> lists demo </title>\n",
    "    </head>\n",
    "\n",
    "    <body>\n",
    "        <h2> unirdered list</h2>\n",
    "        <ul>\n",
    "            <li>dairy milk</li>\n",
    "            <li> munch</li>\n",
    "            <li> perk </li>\n",
    "            <li> 5 star</li>\n",
    "        </ul>\n",
    "    </body>\n",
    "</html>"
   ]
  },
  {
   "cell_type": "code",
   "execution_count": null,
   "metadata": {},
   "outputs": [],
   "source": [
    "# attrubutes:\n",
    "'''\n",
    "* we should always give the attribute to the tag in the opening tag only\n",
    "* we have so many attributes\n",
    "* below we use type attrubutes to change the list from bullets to square\n",
    "* u can give type = \"circle\"/\"square\"/\"none\"/etc\n",
    "'''"
   ]
  },
  {
   "cell_type": "code",
   "execution_count": null,
   "metadata": {
    "vscode": {
     "languageId": "html"
    }
   },
   "outputs": [],
   "source": [
    "<!DOCTYPE html>\n",
    "<html lang=\"en\">\n",
    "    <head>\n",
    "        <meta charset=\"UTF-8\">\n",
    "        <title> lists demo </title>\n",
    "    </head>\n",
    "\n",
    "    <body>\n",
    "        <h2> unirdered list</h2>\n",
    "\n",
    "        <ul >\n",
    "            <li>dairy milk</li>\n",
    "            <li> munch</li>\n",
    "            <li> perk </li>\n",
    "            <li> 5 star</li>\n",
    "        </ul>\n",
    "\n",
    "        <ul type=\"square\"> \n",
    "            <li>dairy milk</li>\n",
    "            <li> munch</li>\n",
    "            <li> perk </li>\n",
    "            <li> 5 star</li>\n",
    "        </ul>\n",
    "\n",
    "    </body>\n",
    "</html>"
   ]
  },
  {
   "cell_type": "markdown",
   "metadata": {},
   "source": [
    "# ordered list"
   ]
  },
  {
   "cell_type": "code",
   "execution_count": null,
   "metadata": {},
   "outputs": [],
   "source": [
    "# orderlist tag : <ol> </ol>\n",
    "'''\n",
    "*to use the ordered list we can use ol tag\n",
    "* so to get orders of list it will display like 1,2,3,4 etc\n",
    "* in ol tag we have attribute type = \"A\" , to display only alphabets but not numbers\n",
    "* start attribute we have only in <ol> tag to start with specific number form satrting\n",
    "'''"
   ]
  },
  {
   "cell_type": "code",
   "execution_count": null,
   "metadata": {},
   "outputs": [],
   "source": [
    "#it will display alphabets for the lists we gave \"A\" for capital , \"a\" for small"
   ]
  },
  {
   "cell_type": "code",
   "execution_count": null,
   "metadata": {
    "vscode": {
     "languageId": "html"
    }
   },
   "outputs": [],
   "source": [
    "        <ol type=\"A\">\n",
    "            <li> one </li>\n",
    "            <li> two </li>\n",
    "            <li> three </li>\n",
    "            <li> four </li>\n",
    "        </ol>\n"
   ]
  },
  {
   "cell_type": "code",
   "execution_count": null,
   "metadata": {},
   "outputs": [],
   "source": [
    "# here we can give attribute type = \"i\" for small roman nembers , = \"I\" for capital roman numbers"
   ]
  },
  {
   "cell_type": "code",
   "execution_count": null,
   "metadata": {
    "vscode": {
     "languageId": "html"
    }
   },
   "outputs": [],
   "source": [
    "        <ol type=\"I\">\n",
    "            <li> one </li>\n",
    "            <li> two </li>\n",
    "            <li> three </li>\n",
    "            <li> four </li>\n",
    "        </ol>\n"
   ]
  },
  {
   "cell_type": "code",
   "execution_count": null,
   "metadata": {},
   "outputs": [],
   "source": [
    "# attributes we have only in ordered list tag : <ol>\n",
    "\n",
    "# start\n",
    "# reversed"
   ]
  },
  {
   "cell_type": "code",
   "execution_count": null,
   "metadata": {
    "vscode": {
     "languageId": "html"
    }
   },
   "outputs": [],
   "source": [
    "        <ol type=\"I\" start=\"10\" reversed>\n",
    "            <li> one </li>\n",
    "            <li> two </li>\n",
    "            <li> three </li>\n",
    "            <li> four </li>\n",
    "        </ol>\n"
   ]
  },
  {
   "cell_type": "markdown",
   "metadata": {},
   "source": [
    "# descriptive list"
   ]
  },
  {
   "cell_type": "code",
   "execution_count": null,
   "metadata": {},
   "outputs": [],
   "source": [
    "# descriptive list : <dl> </dl>\n",
    "\n",
    "#we use this inside the dl tag <dt> </dt>\n",
    "# and we use <dd> </dd> tag inside the dt tag\n",
    "# dt means descriptive term which item we eant to decribe \n",
    "# and what we mean to decribe dd tag"
   ]
  },
  {
   "cell_type": "code",
   "execution_count": null,
   "metadata": {
    "vscode": {
     "languageId": "html"
    }
   },
   "outputs": [],
   "source": [
    "<dl>\n",
    "            <dt> Google:\n",
    "                <dd> it is an search engine</dd>\n",
    "                <dd> it is product based company</dd>\n",
    "            </dt>\n",
    "\n",
    "            <dt> Facebook:\n",
    "                <dd> its an social media platform</dd>\n",
    "                <dd> CEo is mark</dd>\n",
    "            </dt>\n",
    "        </dl>"
   ]
  }
 ],
 "metadata": {
  "language_info": {
   "name": "python"
  }
 },
 "nbformat": 4,
 "nbformat_minor": 2
}
