{
 "cells": [
  {
   "cell_type": "code",
   "execution_count": null,
   "metadata": {},
   "outputs": [],
   "source": [
    "#we can use custom fonts:\n",
    "#https://fonts.google.com/\n",
    "# go the above website select any font , and download\n",
    "# extarct and add to the current path"
   ]
  },
  {
   "cell_type": "code",
   "execution_count": null,
   "metadata": {
    "vscode": {
     "languageId": "html"
    }
   },
   "outputs": [],
   "source": [
    "<!DOCTYPE html>\n",
    "<html lang=\"en\">\n",
    "    <head>\n",
    "        <meta charset=\"UTF-8\">\n",
    "        <meta http-equiv=\"X-UA-Compatible\" content=\"IE=edge\">\n",
    "        <meta name=\"viewport\" content=\"width=device-width, initial-scale=1.0\">\n",
    "        <title> custom font </title>\n",
    "\n",
    "        <style>\n",
    "            @font-face{\n",
    "                font-family: 'edo';     \n",
    "                src : url(./font.ttf)\n",
    "            }\n",
    "\n",
    "            .c{\n",
    "                font-family: 'edo'\n",
    "            }\n",
    "        </style>\n",
    "    </head>\n",
    "\n",
    "    <body>\n",
    "        <h1> this is vivek</h1>\n",
    "        <h1 class=\"c\"> hello world this is vivek</h1>\n",
    "        <h1 class=\"c\"> hello world this is teja noob</h1>\n",
    "\n",
    "    </body>\n",
    "    \n",
    "</html>\n"
   ]
  }
 ],
 "metadata": {
  "language_info": {
   "name": "python"
  }
 },
 "nbformat": 4,
 "nbformat_minor": 2
}
