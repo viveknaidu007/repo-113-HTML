{
 "cells": [
  {
   "cell_type": "code",
   "execution_count": null,
   "metadata": {},
   "outputs": [],
   "source": [
    "# image tag : <img src=\"path\"> "
   ]
  },
  {
   "cell_type": "code",
   "execution_count": null,
   "metadata": {
    "vscode": {
     "languageId": "html"
    }
   },
   "outputs": [],
   "source": [
    "<!DOCTYPE html>\n",
    "<html>\n",
    "    <head>\n",
    "        <title> image tag demo </title>\n",
    "    </head>\n",
    "\n",
    "    <body>\n",
    "        <img src=\"https://c4.wallpaperflare.com/wallpaper/109/220/12/dragon-ball-dragon-ball-super-ultra-instinct-son-goku-wallpaper-preview.jpg\" width=\"200px\" height=\"200px\" alt=\"goku\"> \n",
    "        <br>\n",
    "        <img src=\"images\\img3.png\" width=\"200px\" height=\"200px\">\n",
    "        <a href=\"https://github.com/viveknaidu007\"> <img src=\"images\\img3.png\" width=\"200px\" height=\"200px\"> </a>\n",
    "    </body>\n",
    "\n",
    "</html>\n",
    "\n"
   ]
  }
 ],
 "metadata": {
  "language_info": {
   "name": "python"
  }
 },
 "nbformat": 4,
 "nbformat_minor": 2
}
