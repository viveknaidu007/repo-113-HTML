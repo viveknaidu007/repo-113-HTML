{
 "cells": [
  {
   "cell_type": "code",
   "execution_count": null,
   "metadata": {},
   "outputs": [],
   "source": [
    "# it is adding icon at tab bar "
   ]
  },
  {
   "cell_type": "code",
   "execution_count": null,
   "metadata": {
    "vscode": {
     "languageId": "html"
    }
   },
   "outputs": [],
   "source": [
    "<!DOCTYPE html>\n",
    "<html lang=\"en\">\n",
    "    <head>\n",
    "        <meta charset=\"UTF-8\">\n",
    "        <meta http-equiv=\"X-UA-Compatible\" content=\"IE=edge\">\n",
    "        <meta name=\"viewport\" content=\"width=device-width, initial-scale=1.0\">\n",
    "        <title> fav icon insert</title>\n",
    "        <link rel=\"icon\" href=\"insta.png\">\n",
    "    </head>\n",
    "    \n",
    "    <body>\n",
    "\n",
    "\n",
    "    </body>\n",
    "\n",
    "</html>"
   ]
  }
 ],
 "metadata": {
  "language_info": {
   "name": "python"
  }
 },
 "nbformat": 4,
 "nbformat_minor": 2
}
