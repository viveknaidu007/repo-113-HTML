{
 "cells": [
  {
   "cell_type": "code",
   "execution_count": null,
   "metadata": {},
   "outputs": [],
   "source": [
    "#fieldset tag:"
   ]
  },
  {
   "cell_type": "code",
   "execution_count": null,
   "metadata": {
    "vscode": {
     "languageId": "html"
    }
   },
   "outputs": [],
   "source": [
    "<!DOCTYPE html>\n",
    "<html lang=\"en\">\n",
    "    <head>\n",
    "        <meta charset=\"UTF-8\">\n",
    "        <meta http-equiv=\"X-UA-Compatible\" content=\"IE=edge\">\n",
    "        <meta name=\"viewport\" content=\"width=device-width, initial-scale=1.0\">\n",
    "        <title> fav icon insert</title>\n",
    "\n",
    "        <style> \n",
    "            fieldset{\n",
    "                width:300px;\n",
    "            }\n",
    "\n",
    "            legend{\n",
    "                background-color: pink;\n",
    "                color:blue;\n",
    "                padding: 5px 20px;\n",
    "            }\n",
    "        </style>\n",
    "    \n",
    "    </head>\n",
    "    \n",
    "    <body>\n",
    "        <fieldset>\n",
    "\n",
    "            <legend> choose ur favourtie city</legend>\n",
    "\n",
    "            <div>\n",
    "                <input type=\"radio\" name=\"city\">\n",
    "                <label for=\"\"> hyderabad </label>\n",
    "            </div>\n",
    "\n",
    "            <div>\n",
    "                <input type=\"radio\" name=\"city\">\n",
    "                <label for=\"\"> bangalore </label>\n",
    "            </div>\n",
    "\n",
    "            <div>\n",
    "                <input type=\"radio\" name=\"city\">\n",
    "                <label for=\"\"> hyderabad </label>\n",
    "            </div>\n",
    "\n",
    "        </fieldset>\n",
    "\n",
    "    </body>\n",
    "\n",
    "</html>"
   ]
  }
 ],
 "metadata": {
  "language_info": {
   "name": "python"
  }
 },
 "nbformat": 4,
 "nbformat_minor": 2
}
