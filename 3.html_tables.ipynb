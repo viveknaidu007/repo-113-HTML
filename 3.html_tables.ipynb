{
 "cells": [
  {
   "cell_type": "code",
   "execution_count": null,
   "metadata": {},
   "outputs": [],
   "source": [
    "# HTML table:"
   ]
  },
  {
   "cell_type": "code",
   "execution_count": null,
   "metadata": {},
   "outputs": [],
   "source": [
    "'''\n",
    "<table> </table> : begin and end of table \n",
    "<tr> </tr>  : creates table row\n",
    "<td> </td>   : creates table data / columns\n",
    "<th> </th>   : create table headings\n",
    "\n",
    "#attributes:\n",
    "<table attributes>\n",
    "\n",
    "'''   "
   ]
  },
  {
   "cell_type": "code",
   "execution_count": null,
   "metadata": {
    "vscode": {
     "languageId": "html"
    }
   },
   "outputs": [],
   "source": [
    "<!DOCTYPE html>\n",
    "<html>\n",
    "    <head>\n",
    "        <title> Table Demo </title>\n",
    "    </head>\n",
    "\n",
    "    <body>\n",
    "        <h2> student deatils</h2>\n",
    "        <table >\n",
    "\n",
    "            <tr>\n",
    "                <th> Rool NO</th>\n",
    "                <th> Name</th>\n",
    "                <th> place</th>\n",
    "            </tr>\n",
    "\n",
    "            <tr>\n",
    "                <td>1</td>\n",
    "                <td>xyz</td>\n",
    "                <td>hyderabad</td>\n",
    "            </tr>\n",
    "\n",
    "            <tr>\n",
    "                <td>2</td>\n",
    "                <td>abc</td>\n",
    "                <td>bangalore</td>\n",
    "            </tr>\n",
    "\n",
    "        </table>\n",
    "\n",
    "        <table >\n",
    "\n",
    "            <tr>\n",
    "                <th> Rool NO</th>\n",
    "                <th> Name</th>\n",
    "                <th> place</th>\n",
    "            </tr>\n",
    "\n",
    "            <tr>\n",
    "                <td>1</td>\n",
    "                <td>xyz</td>\n",
    "                <td>hyderabad</td>\n",
    "            </tr>\n",
    "\n",
    "            <tr>\n",
    "                <td>2</td>\n",
    "                <td>abc</td>\n",
    "                <td>bangalore</td>\n",
    "            </tr>\n",
    "\n",
    "        </table>\n",
    "    </body>\n",
    "</html>"
   ]
  },
  {
   "cell_type": "markdown",
   "metadata": {
    "vscode": {
     "languageId": "html"
    }
   },
   "source": [
    "![pic](images\\img2.png)"
   ]
  },
  {
   "cell_type": "markdown",
   "metadata": {
    "vscode": {
     "languageId": "html"
    }
   },
   "source": [
    "![p](images\\img3.png)"
   ]
  },
  {
   "cell_type": "code",
   "execution_count": null,
   "metadata": {
    "vscode": {
     "languageId": "html"
    }
   },
   "outputs": [],
   "source": [
    "# 1px = 0.2cm "
   ]
  }
 ],
 "metadata": {
  "language_info": {
   "name": "python"
  }
 },
 "nbformat": 4,
 "nbformat_minor": 2
}
