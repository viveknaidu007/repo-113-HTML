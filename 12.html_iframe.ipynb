{
 "cells": [
  {
   "cell_type": "code",
   "execution_count": null,
   "metadata": {},
   "outputs": [],
   "source": [
    "https://youtu.be/tqifbLSFJbg?si=PHrPKpC7JcJhmRI4"
   ]
  },
  {
   "cell_type": "code",
   "execution_count": null,
   "metadata": {
    "vscode": {
     "languageId": "html"
    }
   },
   "outputs": [],
   "source": [
    "<!DOCTYPE html>\n",
    "<html lang=\"en\">\n",
    "    <head>\n",
    "        <meta charset=\"UTF-8\">\n",
    "        <meta http-equiv=\"X-UA-Compatible\" content=\"IE=edge\">\n",
    "        <meta name=\"viewport\" content=\"width=device-width, initial-scale=1.0\">\n",
    "        <title> iframe tags </title>\n",
    "    </head>\n",
    "    \n",
    "    <body>\n",
    "        <iframe src=\"11.html\" frameborder=\"0\" width=\"500\" height=\"500\" scrolling=\"yes\"> hello </iframe>\n",
    "    </body>\n",
    "</html>\n"
   ]
  },
  {
   "cell_type": "code",
   "execution_count": null,
   "metadata": {},
   "outputs": [],
   "source": [
    "# go to the any yt video and press embedded "
   ]
  },
  {
   "cell_type": "code",
   "execution_count": null,
   "metadata": {
    "vscode": {
     "languageId": "html"
    }
   },
   "outputs": [],
   "source": [
    "<!DOCTYPE html>\n",
    "<html lang=\"en\">\n",
    "    <head>\n",
    "        <meta charset=\"UTF-8\">\n",
    "        <meta http-equiv=\"X-UA-Compatible\" content=\"IE=edge\">\n",
    "        <meta name=\"viewport\" content=\"width=device-width, initial-scale=1.0\">\n",
    "        <title> iframe tags </title>\n",
    "    </head>\n",
    "    \n",
    "    <body>\n",
    "        <iframe src=\"report.pdf\" width=\"500\" height=\"1000\" frameborder=\"0\"> </iframe>\n",
    "        <iframe width=\"560\" height=\"315\" src=\"https://www.youtube.com/embed/tqifbLSFJbg?si=PHrPKpC7JcJhmRI4\" title=\"YouTube video player\" frameborder=\"0\" allow=\"accelerometer; autoplay; clipboard-write; encrypted-media; gyroscope; picture-in-picture; web-share\" referrerpolicy=\"strict-origin-when-cross-origin\" allowfullscreen></iframe>\n",
    "        <iframe src=\"11.html\" frameborder=\"0\" width=\"500\" height=\"500\" scrolling=\"yes\"> hello </iframe>\n",
    "    </body>\n",
    "</html>\n",
    "\n"
   ]
  }
 ],
 "metadata": {
  "language_info": {
   "name": "python"
  }
 },
 "nbformat": 4,
 "nbformat_minor": 2
}
