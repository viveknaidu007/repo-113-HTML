{
 "cells": [
  {
   "cell_type": "code",
   "execution_count": null,
   "metadata": {},
   "outputs": [],
   "source": [
    "#about div tag : <div> </div>:\n",
    "'''\n",
    "* it will help us to write the code in less lines\n",
    "* and complexcity will be less\n",
    "* we can write common style for more no of lines in html , no need write \n",
    "'''"
   ]
  },
  {
   "cell_type": "code",
   "execution_count": null,
   "metadata": {},
   "outputs": [],
   "source": [
    "#before div tag : <div>"
   ]
  },
  {
   "cell_type": "code",
   "execution_count": null,
   "metadata": {
    "vscode": {
     "languageId": "html"
    }
   },
   "outputs": [],
   "source": [
    "<!DOCTYPE html>\n",
    "<html>\n",
    "    <head>\n",
    "        <title> image tag demo </title>\n",
    "    </head>\n",
    "\n",
    "    <body>\n",
    "        <p style=\"color:blueviolet\" > this is vivek</p> \n",
    "        <p style=\"color:blueviolet\" > this is vivek</p> \n",
    "        <p style=\"color:blueviolet\" > this is vivek</p> \n",
    "        <p style=\"color:blueviolet\" > this is vivek</p> \n",
    "        <p style=\"color:blueviolet\" > this is vivek</p> \n",
    "    </body>\n",
    "\n",
    "</html>"
   ]
  },
  {
   "cell_type": "code",
   "execution_count": null,
   "metadata": {},
   "outputs": [],
   "source": [
    "#after div tag :"
   ]
  },
  {
   "cell_type": "code",
   "execution_count": null,
   "metadata": {
    "vscode": {
     "languageId": "html"
    }
   },
   "outputs": [],
   "source": [
    "<!DOCTYPE html>\n",
    "<html>\n",
    "    <head>\n",
    "        <title> image tag demo </title>\n",
    "    </head>\n",
    "\n",
    "    <body>\n",
    "        <div style=\"color:blue\">\n",
    "            <p> this is paragraph 1</p>         \n",
    "            <p> this is paragraph 2</p>         \n",
    "            <p> this is paragraph 3</p>         \n",
    "            <p> this is paragraph 4</p>         \n",
    "\n",
    "        </div> \n",
    "    </body>\n",
    "\n",
    "</html>"
   ]
  },
  {
   "cell_type": "code",
   "execution_count": null,
   "metadata": {},
   "outputs": [],
   "source": [
    "#same style and same function we can put those in <div></div>"
   ]
  },
  {
   "cell_type": "code",
   "execution_count": null,
   "metadata": {},
   "outputs": [],
   "source": [
    "#now span tag: <span> </span>\n",
    "\n",
    "#if we want to apply the the style to the purticular in div tag thwn we use span tag\n"
   ]
  },
  {
   "cell_type": "code",
   "execution_count": null,
   "metadata": {
    "vscode": {
     "languageId": "html"
    }
   },
   "outputs": [],
   "source": [
    "<!DOCTYPE html>\n",
    "<html>\n",
    "    <head>\n",
    "        <title> image tag demo </title>\n",
    "    </head>\n",
    "\n",
    "\n",
    "    <body>\n",
    "        <b> bold content</b> <b> bold content</b>\n",
    "        <div style=\"color:blue\">\n",
    "            <p> this is <span style=\"color:orchid\" > paragraph 1 </span></p>         \n",
    "            <p> this is paragraph 2</p>         \n",
    "            <p> this is paragraph 3</p>         \n",
    "            <p> this is paragraph 4</p>         \n",
    "        </div> \n",
    "    </body>\n",
    "\n",
    "</html>"
   ]
  }
 ],
 "metadata": {
  "language_info": {
   "name": "python"
  }
 },
 "nbformat": 4,
 "nbformat_minor": 2
}
