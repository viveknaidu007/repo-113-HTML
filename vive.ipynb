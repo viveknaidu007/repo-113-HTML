{
 "cells": [
  {
   "cell_type": "code",
   "execution_count": 1,
   "metadata": {},
   "outputs": [
    {
     "name": "stdout",
     "output_type": "stream",
     "text": [
      "2\n",
      "11\n"
     ]
    }
   ],
   "source": [
    "class UserMainCode(object):\n",
    "    @classmethod\n",
    "    def vacantRoom(cls, input1, input2, input3):\n",
    "        # Calculate the number of vacant rooms\n",
    "        vacant_rooms = input3 - len(input1)\n",
    "        return vacant_rooms\n",
    "\n",
    "# Example Usage\n",
    "example1_input1 = [1, 2, 3, 4, 5, 6, 7, 8]\n",
    "example1_input2 = 8\n",
    "example1_input3 = 10\n",
    "\n",
    "example2_input1 = [101, 201, 301, 401]\n",
    "example2_input2 = 4\n",
    "example2_input3 = 15\n",
    "\n",
    "print(UserMainCode.vacantRoom(example1_input1, example1_input2, example1_input3))  # Output: 2\n",
    "print(UserMainCode.vacantRoom(example2_input1, example2_input2, example2_input3))  # Output: 11\n"
   ]
  },
  {
   "cell_type": "code",
   "execution_count": 2,
   "metadata": {},
   "outputs": [
    {
     "ename": "ValueError",
     "evalue": "invalid literal for int() with base 10: '1,2,3,4,5,6,7,8'",
     "output_type": "error",
     "traceback": [
      "\u001b[1;31m---------------------------------------------------------------------------\u001b[0m",
      "\u001b[1;31mValueError\u001b[0m                                Traceback (most recent call last)",
      "Cell \u001b[1;32mIn[2], line 27\u001b[0m\n\u001b[0;32m     25\u001b[0m \u001b[38;5;66;03m# Running the main function\u001b[39;00m\n\u001b[0;32m     26\u001b[0m \u001b[38;5;28;01mif\u001b[39;00m \u001b[38;5;18m__name__\u001b[39m \u001b[38;5;241m==\u001b[39m \u001b[38;5;124m\"\u001b[39m\u001b[38;5;124m__main__\u001b[39m\u001b[38;5;124m\"\u001b[39m:\n\u001b[1;32m---> 27\u001b[0m     \u001b[43mmain\u001b[49m\u001b[43m(\u001b[49m\u001b[43m)\u001b[49m\n",
      "Cell \u001b[1;32mIn[2], line 11\u001b[0m, in \u001b[0;36mmain\u001b[1;34m()\u001b[0m\n\u001b[0;32m      9\u001b[0m \u001b[38;5;28;01mdef\u001b[39;00m \u001b[38;5;21mmain\u001b[39m():\n\u001b[0;32m     10\u001b[0m     \u001b[38;5;66;03m# Taking input for the list of reserved rooms\u001b[39;00m\n\u001b[1;32m---> 11\u001b[0m     input1 \u001b[38;5;241m=\u001b[39m \u001b[38;5;28;43mlist\u001b[39;49m\u001b[43m(\u001b[49m\u001b[38;5;28;43mmap\u001b[39;49m\u001b[43m(\u001b[49m\u001b[38;5;28;43mint\u001b[39;49m\u001b[43m,\u001b[49m\u001b[43m \u001b[49m\u001b[38;5;28;43minput\u001b[39;49m\u001b[43m(\u001b[49m\u001b[38;5;124;43m\"\u001b[39;49m\u001b[38;5;124;43mEnter the reserved rooms separated by spaces: \u001b[39;49m\u001b[38;5;124;43m\"\u001b[39;49m\u001b[43m)\u001b[49m\u001b[38;5;241;43m.\u001b[39;49m\u001b[43msplit\u001b[49m\u001b[43m(\u001b[49m\u001b[43m)\u001b[49m\u001b[43m)\u001b[49m\u001b[43m)\u001b[49m\n\u001b[0;32m     13\u001b[0m     \u001b[38;5;66;03m# The number of reserved rooms can be derived from the length of input1\u001b[39;00m\n\u001b[0;32m     14\u001b[0m     input2 \u001b[38;5;241m=\u001b[39m \u001b[38;5;28mlen\u001b[39m(input1)\n",
      "\u001b[1;31mValueError\u001b[0m: invalid literal for int() with base 10: '1,2,3,4,5,6,7,8'"
     ]
    }
   ],
   "source": [
    "class UserMainCode(object):\n",
    "    @classmethod\n",
    "    def vacantRoom(cls, input1, input2, input3):\n",
    "        # Calculate the number of vacant rooms\n",
    "        vacant_rooms = input3 - len(input1)\n",
    "        return vacant_rooms\n",
    "\n",
    "# Function to take user input and call the vacantRoom method\n",
    "def main():\n",
    "    # Taking input for the list of reserved rooms\n",
    "    input1 = list(map(int, input(\"Enter the reserved rooms separated by spaces: \").split()))\n",
    "    \n",
    "    # The number of reserved rooms can be derived from the length of input1\n",
    "    input2 = len(input1)\n",
    "    \n",
    "    # Taking input for the total number of rooms\n",
    "    input3 = int(input(\"Enter the total number of rooms: \"))\n",
    "    \n",
    "    # Calculating the number of vacant rooms\n",
    "    result = UserMainCode.vacantRoom(input1, input2, input3)\n",
    "    \n",
    "    # Printing the result\n",
    "    print(\"Number of vacant rooms:\", result)\n",
    "\n",
    "# Running the main function\n",
    "if __name__ == \"__main__\":\n",
    "    main()\n"
   ]
  },
  {
   "cell_type": "code",
   "execution_count": 3,
   "metadata": {},
   "outputs": [
    {
     "ename": "ValueError",
     "evalue": "invalid literal for int() with base 10: '1,2,3,4,5,6,7,8'",
     "output_type": "error",
     "traceback": [
      "\u001b[1;31m---------------------------------------------------------------------------\u001b[0m",
      "\u001b[1;31mValueError\u001b[0m                                Traceback (most recent call last)",
      "Cell \u001b[1;32mIn[3], line 27\u001b[0m\n\u001b[0;32m     25\u001b[0m \u001b[38;5;66;03m# Running the main function\u001b[39;00m\n\u001b[0;32m     26\u001b[0m \u001b[38;5;28;01mif\u001b[39;00m \u001b[38;5;18m__name__\u001b[39m \u001b[38;5;241m==\u001b[39m \u001b[38;5;124m\"\u001b[39m\u001b[38;5;124m__main__\u001b[39m\u001b[38;5;124m\"\u001b[39m:\n\u001b[1;32m---> 27\u001b[0m     \u001b[43mmain\u001b[49m\u001b[43m(\u001b[49m\u001b[43m)\u001b[49m\n",
      "Cell \u001b[1;32mIn[3], line 11\u001b[0m, in \u001b[0;36mmain\u001b[1;34m()\u001b[0m\n\u001b[0;32m      9\u001b[0m \u001b[38;5;28;01mdef\u001b[39;00m \u001b[38;5;21mmain\u001b[39m():\n\u001b[0;32m     10\u001b[0m     \u001b[38;5;66;03m# Taking input for the list of reserved rooms\u001b[39;00m\n\u001b[1;32m---> 11\u001b[0m     input1 \u001b[38;5;241m=\u001b[39m \u001b[38;5;28;43mlist\u001b[39;49m\u001b[43m(\u001b[49m\u001b[38;5;28;43mmap\u001b[39;49m\u001b[43m(\u001b[49m\u001b[38;5;28;43mint\u001b[39;49m\u001b[43m,\u001b[49m\u001b[43m \u001b[49m\u001b[38;5;28;43minput\u001b[39;49m\u001b[43m(\u001b[49m\u001b[38;5;124;43m\"\u001b[39;49m\u001b[38;5;124;43mEnter the reserved rooms separated by spaces: \u001b[39;49m\u001b[38;5;124;43m\"\u001b[39;49m\u001b[43m)\u001b[49m\u001b[38;5;241;43m.\u001b[39;49m\u001b[43msplit\u001b[49m\u001b[43m(\u001b[49m\u001b[43m)\u001b[49m\u001b[43m)\u001b[49m\u001b[43m)\u001b[49m\n\u001b[0;32m     13\u001b[0m     \u001b[38;5;66;03m# Taking input for the count of reserved rooms\u001b[39;00m\n\u001b[0;32m     14\u001b[0m     input2 \u001b[38;5;241m=\u001b[39m \u001b[38;5;28mint\u001b[39m(\u001b[38;5;28minput\u001b[39m(\u001b[38;5;124m\"\u001b[39m\u001b[38;5;124mEnter the count of reserved rooms: \u001b[39m\u001b[38;5;124m\"\u001b[39m))\n",
      "\u001b[1;31mValueError\u001b[0m: invalid literal for int() with base 10: '1,2,3,4,5,6,7,8'"
     ]
    }
   ],
   "source": [
    "class UserMainCode(object):\n",
    "    @classmethod\n",
    "    def vacantRoom(cls, input1, input2, input3):\n",
    "        # Calculate the number of vacant rooms\n",
    "        vacant_rooms = input3 - len(input1)\n",
    "        return vacant_rooms\n",
    "\n",
    "# Function to take user input and call the vacantRoom method\n",
    "def main():\n",
    "    # Taking input for the list of reserved rooms\n",
    "    input1 = list(map(int, input(\"Enter the reserved rooms separated by spaces: \").split()))\n",
    "    \n",
    "    # Taking input for the count of reserved rooms\n",
    "    input2 = int(input(\"Enter the count of reserved rooms: \"))\n",
    "    \n",
    "    # Taking input for the total number of rooms\n",
    "    input3 = int(input(\"Enter the total number of rooms: \"))\n",
    "    \n",
    "    # Calculating the number of vacant rooms\n",
    "    result = UserMainCode.vacantRoom(input1, input2, input3)\n",
    "    \n",
    "    # Printing the result\n",
    "    print(\"Number of vacant rooms:\", result)\n",
    "\n",
    "# Running the main function\n",
    "if __name__ == \"__main__\":\n",
    "    main()\n"
   ]
  },
  {
   "cell_type": "code",
   "execution_count": 5,
   "metadata": {},
   "outputs": [
    {
     "name": "stdout",
     "output_type": "stream",
     "text": [
      "Number of vacant rooms: 11\n"
     ]
    }
   ],
   "source": [
    "class UserMainCode(object):\n",
    "    @classmethod\n",
    "    def vacantRoom(cls, input1, input2, input3):\n",
    "        vacant_rooms = input3 - len(input1)\n",
    "        return vacant_rooms\n",
    "\n",
    "def main():\n",
    "    input1 = list(map(int, input(\"Enter the reserved rooms separated by spaces: \").split()))\n",
    "    input2 = int(input(\"Enter the count of reserved rooms: \"))\n",
    "    input3 = int(input(\"Enter the total number of rooms: \"))\n",
    "    result = UserMainCode.vacantRoom(input1, input2, input3)\n",
    "    print(\"Number of vacant rooms:\", result)\n",
    "\n",
    "if __name__ == \"__main__\":\n",
    "    main()\n"
   ]
  },
  {
   "cell_type": "code",
   "execution_count": 7,
   "metadata": {},
   "outputs": [
    {
     "name": "stdout",
     "output_type": "stream",
     "text": [
      "2\n"
     ]
    }
   ],
   "source": [
    "class UserMainCode(object):\n",
    "    @classmethod\n",
    "    def vacantRoom(cls, input1, input2, input3):\n",
    "        vacant_rooms = input3 - len(input1)\n",
    "        return vacant_rooms\n",
    "\n",
    "def main():\n",
    "    input1 = list(map(int, input().split(\",\")))\n",
    "    input2 = int(input())\n",
    "    input3 = int(input())\n",
    "    result = UserMainCode.vacantRoom(input1, input2, input3)\n",
    "    print(result)\n",
    "\n",
    "if __name__ == \"__main__\":\n",
    "    main()\n"
   ]
  },
  {
   "cell_type": "code",
   "execution_count": 9,
   "metadata": {},
   "outputs": [
    {
     "name": "stdout",
     "output_type": "stream",
     "text": [
      "11\n"
     ]
    }
   ],
   "source": [
    "class UserMainCode(object):\n",
    "    @classmethod\n",
    "    def vacantRoom(cls, input1, input2, input3):\n",
    "        vacant_rooms = input3 - len(input1)\n",
    "        return vacant_rooms\n",
    "\n",
    "def main():\n",
    "    input1 = list(map(int, input().strip('{}').split(',')))\n",
    "    input2 = int(input())\n",
    "    input3 = int(input())\n",
    "    result = UserMainCode.vacantRoom(input1, input2, input3)\n",
    "    print(result)\n",
    "\n",
    "if __name__ == \"__main__\":\n",
    "    main()\n"
   ]
  }
 ],
 "metadata": {
  "kernelspec": {
   "display_name": "video",
   "language": "python",
   "name": "python3"
  },
  "language_info": {
   "codemirror_mode": {
    "name": "ipython",
    "version": 3
   },
   "file_extension": ".py",
   "mimetype": "text/x-python",
   "name": "python",
   "nbconvert_exporter": "python",
   "pygments_lexer": "ipython3",
   "version": "3.10.14"
  }
 },
 "nbformat": 4,
 "nbformat_minor": 2
}
