{
 "cells": [
  {
   "cell_type": "code",
   "execution_count": null,
   "metadata": {},
   "outputs": [],
   "source": []
  },
  {
   "cell_type": "code",
   "execution_count": null,
   "metadata": {},
   "outputs": [],
   "source": [
    "# Html :\n",
    "'''\n",
    "* html is very imp for webpage desing\n",
    "\n",
    "* HTML - hyper text markup language\n",
    "* any thing that enclosed with in <> is a tag\n",
    "* Ex: <india> , <h1>, <table>\n",
    "* Opening tag : <h1> , Closing tag: </h1>\n",
    "* HTML element contains:\n",
    "opening tag + some content + closing tag\n",
    "<h1> + </hi>\n",
    "* <br> is for breaking the line\n",
    "* <hr> is for horizontal row \n",
    "* Text editor :\n",
    "ex: notepad , notepad++, atom,vscode .. etc\n",
    "* Browser : \n",
    "ex : chroe ,mozilla firefox , internet explorer etc \n",
    "\n",
    "\n",
    "'''"
   ]
  },
  {
   "cell_type": "code",
   "execution_count": null,
   "metadata": {},
   "outputs": [],
   "source": [
    "# Structure:\n",
    "'''\n",
    "* <!DOCTYPE html> : we r telling the our bworser that we using this html\n",
    "* every html document has 2 parts : head and body\n",
    "<title> Title here</title> : it will display the title of our webpage in the tab\n",
    "* whaterver we wrote in head tag is for br , its for search engine optime purpose and browser purpose\n",
    "* body tag is what we want to show to the user , user purpose\n",
    "* <style> tag is fro colouring the website , we haev to include in the body tag \n",
    "* w3c is an organizations , they form some standards and rules to follow for the webpage validate\n",
    "* https://validator.w3.org/ , we can give our page to validate\n",
    "\n",
    "'''"
   ]
  },
  {
   "cell_type": "code",
   "execution_count": null,
   "metadata": {
    "vscode": {
     "languageId": "html"
    }
   },
   "outputs": [],
   "source": [
    "<!DOCTYPE html>\n",
    "<html lang=\"en\">\n",
    "    <head>\n",
    "        <meta charset=\"UTF-8\">\n",
    "        <title> Title here</title>\n",
    "    </head>\n",
    "\n",
    "    <body>\n",
    "        content\n",
    "    </body>\n",
    "</html>"
   ]
  },
  {
   "cell_type": "code",
   "execution_count": null,
   "metadata": {},
   "outputs": [],
   "source": [
    "# basic tags:\n",
    "'''\n",
    "* we have 6 heading tags in html\n",
    "* and we have to use h1 tag only one tag because of search engine optimization example we have the rule to use only h1 only one time: it will display while user query \n",
    "'''"
   ]
  },
  {
   "cell_type": "markdown",
   "metadata": {},
   "source": [
    "![p](images\\img1.png)"
   ]
  },
  {
   "cell_type": "code",
   "execution_count": null,
   "metadata": {
    "vscode": {
     "languageId": "html"
    }
   },
   "outputs": [],
   "source": [
    "<!DOCTYPE html>\n",
    "<html lang=\"en\">\n",
    "    <head>\n",
    "        <meta charset=\"UTF-8\">\n",
    "        <title> Title here</title>\n",
    "    </head>\n",
    "\n",
    "    <body>\n",
    "        <h1> this is vivek</h1>\n",
    "        <h3> hi bro</h3>\n",
    "        <h6> this is teja</h6>\n",
    "    </body>\n",
    "</html>"
   ]
  },
  {
   "cell_type": "code",
   "execution_count": null,
   "metadata": {},
   "outputs": [],
   "source": [
    "# Paragraph tag : <p> </p>\n",
    "'''\n",
    "<p> HTML  frontent languge used to develop static websites </p>\n",
    "<p> </p> tag it will treat as paragraph\n",
    "'''"
   ]
  },
  {
   "cell_type": "code",
   "execution_count": null,
   "metadata": {
    "vscode": {
     "languageId": "html"
    }
   },
   "outputs": [],
   "source": [
    "<!DOCTYPE html>\n",
    "<html lang=\"en\">\n",
    "    <head>\n",
    "        <meta charset=\"UTF-8\">\n",
    "        <title> Title here</title>\n",
    "    </head>\n",
    "\n",
    "    <body>\n",
    "        <h1> this is vivek</h1>\n",
    "        <h3> hi bro</h3>\n",
    "        <h6> this is teja</h6>\n",
    "        <p> Konidela Pawan Kalyan (born Konidela Kalyan Babu; 2 September[n 1]) is an Indian actor, filmmaker, politician and founder of the Jana Sena Party. Primarily working in Telugu cinema, he is known for his unique acting style and mannerism. He has a large fan base and a cult following and is one of the highest-paid actors of Indian cinema. He has been featured in Forbes India's Celebrity 100 list multiple times since 2013. Kalyan is the recipient of a Filmfare Award South and a SIIMA Award among other accolades.[5] </p>\n",
    "    </body>\n",
    "</html>"
   ]
  },
  {
   "cell_type": "code",
   "execution_count": null,
   "metadata": {},
   "outputs": [],
   "source": [
    "# prev tag : <prev> </prev>\n",
    "'''\n",
    "* and also we have pre tag : <pre> </pre> , insdie <p> </p>\n",
    "* it will display exact structrue of paragraph we gave like commo and spaces etc \n",
    "'''"
   ]
  },
  {
   "cell_type": "code",
   "execution_count": null,
   "metadata": {
    "vscode": {
     "languageId": "html"
    }
   },
   "outputs": [],
   "source": [
    "<!DOCTYPE html>\n",
    "<html lang=\"en\">\n",
    "    <head>\n",
    "        <meta charset=\"UTF-8\">\n",
    "        <title> Title here</title>\n",
    "    </head>\n",
    "\n",
    "    <body>\n",
    "        <h1> this is vivek</h1>\n",
    "        <h3> hi bro</h3>\n",
    "        <h6> this is teja</h6>\n",
    "        <p> Konidela Pawan Kalyan (born Konidela Kalyan Babu; 2 September[n 1]) is an Indian actor, filmmaker, politician and founder of the Jana Sena Party. Primarily working in Telugu cinema, he is known for his unique acting style and mannerism. He has a large fan base and a cult following and is one of the highest-paid actors of Indian cinema. He has been featured in Forbes India's Celebrity 100 list multiple times since 2013. Kalyan is the recipient of a Filmfare Award South and a SIIMA Award among other accolades.[5] </p>\n",
    "        \n",
    "        <p><pre> Konidela Pawan Kalyan (born Konidela Kalyan Babu; 2 September[n 1]) is an Indian actor, \n",
    "            filmmaker, politician and founder of the Jana Sena Party. Primarily working in Telugu cinema,\n",
    "             he is known for his unique acting style and mannerism.\n",
    "              He has a large fan base and a cult following and is one of the highest-paid actors of Indian cinema.\n",
    "               He has been featured in Forbes India's Celebrity 100 list multiple times since 2013. Kalyan is the recipient of a Filmfare Award South and a SIIMA Award among other accolades\n",
    "               .[5]  </pre></p>\n",
    "    </body>\n",
    "</html>\n",
    "\n"
   ]
  },
  {
   "cell_type": "code",
   "execution_count": null,
   "metadata": {},
   "outputs": [],
   "source": [
    "# bold tag : <b> </b>\n",
    "'''\n",
    "<b> <b/> , it was use to bold the text inside the paragraph tag <p>\n",
    "'''"
   ]
  },
  {
   "cell_type": "code",
   "execution_count": null,
   "metadata": {},
   "outputs": [],
   "source": [
    "# strong tag : <strong> </strong>\n",
    "'''\n",
    "* it was in updated in html5 , new way of using bold both are same <b> and <strong>\n",
    "'''"
   ]
  },
  {
   "cell_type": "code",
   "execution_count": null,
   "metadata": {},
   "outputs": [],
   "source": [
    "# italic tag : <i> <i/>\n",
    "'''\n",
    "* it will convert the text into cross(italic)\n",
    "'''\n"
   ]
  }
 ],
 "metadata": {
  "language_info": {
   "name": "python"
  }
 },
 "nbformat": 4,
 "nbformat_minor": 2
}
