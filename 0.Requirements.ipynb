{
 "cells": [
  {
   "cell_type": "code",
   "execution_count": null,
   "metadata": {},
   "outputs": [],
   "source": [
    "'''\n",
    "Web developemnt Stages :\n",
    "* front end / client side :\n",
    "Html , css , java script\n",
    "\n",
    "* Backend / server side\n",
    "python(django) , or etc we have\n",
    "'''"
   ]
  }
 ],
 "metadata": {
  "language_info": {
   "name": "python"
  }
 },
 "nbformat": 4,
 "nbformat_minor": 2
}
